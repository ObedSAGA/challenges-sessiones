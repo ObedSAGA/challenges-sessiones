{
 "cells": [
  {
   "cell_type": "markdown",
   "id": "d6edbe8e-d8ac-4c1a-a8d4-b8ebda7a57c9",
   "metadata": {},
   "source": [
    "# Business challenge: : Gestión de datos de una compañía de taxis"
   ]
  },
  {
   "cell_type": "markdown",
   "id": "9fa2444d-3b57-4495-8173-217f6993c7af",
   "metadata": {},
   "source": [
    "Escenario empresarial: Se te ha encargado desarrollar un programa en Python para una compañía de taxis en Barcelona. El programa debería ayudar a la compañía a gestionar datos relacionados con sus taxis, conductores y viajes. La compañía de taxis necesita almacenar y manipular estos datos de manera eficiente para optimizar sus operaciones.\n",
    "\n",
    "Instrucciones:\n",
    "\n",
    "1. Crear un diccionario para almacenar información sobre los conductores de taxi. Cada conductor debe tener un ID de conductor único (un valor numérico) y los siguientes detalles:\n",
    "\n",
    "- Nombre completo del conductor\n",
    "- Número de contacto\n",
    "- Número total de viajes realizados\n",
    "\n",
    "2. Crear una lista para almacenar información sobre los viajes en taxi. Cada viaje debe incluir los siguientes detalles:\n",
    "\n",
    "- ID del viaje (un identificador único)\n",
    "- ID del conductor (para asociar el viaje con un conductor)\n",
    "- Nombre del cliente\n",
    "- Distancia del viaje (en kilómetros)\n",
    "- Tarifa del viaje (en euros)\n",
    "- Implementar las siguientes funcionalidades dentro de tu programa en Python:\n",
    "\n",
    "3. Proporcionar el pseudocódigo\n",
    "- Añadir nuevos conductores al diccionario de conductores.\n",
    "- Registrar nuevos viajes en taxi con los detalles relevantes.\n",
    "- Calcular y actualizar el número total de viajes realizados por cada conductor.\n",
    "- Calcular los ingresos totales generados por la compañía de taxis.\n",
    "- Encontrar al conductor con el mayor número de viajes.\n",
    "- Encontrar al conductor con los ingresos totales más altos.\n",
    "- Listar todos los viajes realizados por un conductor específico."
   ]
  },
  {
   "cell_type": "code",
   "execution_count": 2,
   "id": "cb015c0c-cab6-43b6-b058-f72a8c072e4f",
   "metadata": {},
   "outputs": [],
   "source": [
    "# Inicializar diccionarios y listas para almacenar datos de conductores y viajes\n",
    "driver_data = {}\n",
    "trip_data = []\n",
    "\n",
    "# Añadir nuevos conductores al diccionario de conductores\n",
    "driver_data[1] = {\"full_name\": \"John Doe\", \"contact_number\": \"123-456-7890\", \"total_trips\": 0}\n",
    "# Continuar con más\n",
    "\n",
    "# Registrar nuevos viajes en taxi con los detalles relevantes\n",
    "trip_data.append({\"trip_id\": 101, \"driver_id\": 1, \"customer_name\": \"Cliente A\", \"distance\": 10.5, \"fare\": 15.75})\n",
    "# Continuar con más\n",
    "\n",
    "# Aquí va tu código"
   ]
  }
 ],
 "metadata": {
  "kernelspec": {
   "display_name": "Python 3 (ipykernel)",
   "language": "python",
   "name": "python3"
  },
  "language_info": {
   "codemirror_mode": {
    "name": "ipython",
    "version": 3
   },
   "file_extension": ".py",
   "mimetype": "text/x-python",
   "name": "python",
   "nbconvert_exporter": "python",
   "pygments_lexer": "ipython3",
   "version": "3.10.12"
  }
 },
 "nbformat": 4,
 "nbformat_minor": 5
}
